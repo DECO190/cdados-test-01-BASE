{
 "cells": [
  {
   "cell_type": "code",
   "execution_count": 2,
   "metadata": {},
   "outputs": [
    {
     "name": "stdout",
     "output_type": "stream",
     "text": [
      "192.3832 61.38619028543798\n"
     ]
    }
   ],
   "source": [
    "# ========================== CONCEDIDO\n",
    "p_cinema = 0.68\n",
    "p_teatro = 0.32\n",
    "\n",
    "p_jantar_dado_cinema = 0.82\n",
    "p_n_jantar_dado_cinema = 0.18\n",
    "\n",
    "p_jantar_dado_teatro = 0.36\n",
    "p_n_jantar_dado_teatro = 0.64\n",
    "\n",
    "custo_jantar = 135\n",
    "custo_cinema = 66\n",
    "custo_teatro = 187\n",
    "\n",
    "\n",
    "# ========================== TABELA\n",
    "p_jantar_e_cinema = p_jantar_dado_cinema * p_cinema\n",
    "p_n_jantar_e_cinema = p_n_jantar_dado_cinema * p_cinema\n",
    "p_jantar_e_teatro = p_jantar_dado_teatro * p_teatro\n",
    "p_n_jantar_e_teatro = p_n_jantar_dado_teatro * p_teatro\n",
    "\n",
    "\n",
    "esp = p_jantar_e_cinema * (custo_jantar + custo_cinema) + p_n_jantar_e_cinema * (custo_cinema) + p_jantar_e_teatro * (custo_teatro + custo_jantar) + p_n_jantar_e_teatro * (custo_teatro)\n",
    "\n",
    "\n",
    "var = p_jantar_e_cinema * ((esp - (custo_jantar + custo_cinema)) ** 2) + p_n_jantar_e_cinema * ((esp - (custo_cinema)) ** 2) + p_jantar_e_teatro * ((esp - (custo_teatro + custo_jantar)) ** 2) + p_n_jantar_e_teatro * ((esp - (custo_teatro)) ** 2)\n",
    "\n",
    "desvio_padrao = var ** 0.5 # significa que se minha esp é 150 por exemplo e meu dp é 20 significa que eu posso gastar até 150 + 20 ou 150 - 20\n",
    "\n",
    "print(esp, desvio_padrao)"
   ]
  },
  {
   "cell_type": "code",
   "execution_count": 14,
   "metadata": {},
   "outputs": [
    {
     "name": "stdout",
     "output_type": "stream",
     "text": [
      "165.26936 51.39117157246368\n"
     ]
    }
   ],
   "source": [
    "# ========================== CONCEDIDO\n",
    "p_cinema = 0.68\n",
    "p_teatro = 0.32\n",
    "\n",
    "p_jantar_dado_cinema = 0.82\n",
    "p_n_jantar_dado_cinema = 0.18\n",
    "\n",
    "p_jantar_dado_teatro = 0.36\n",
    "p_n_jantar_dado_teatro = 0.64\n",
    "\n",
    "custo_jantar = 135\n",
    "custo_cinema = 66\n",
    "custo_teatro = 187\n",
    "\n",
    "\n",
    "# ========================== TABELA\n",
    "p_jantar_e_cinema = p_jantar_dado_cinema * p_cinema\n",
    "p_n_jantar_e_cinema = p_n_jantar_dado_cinema * p_cinema\n",
    "p_jantar_e_teatro = p_jantar_dado_teatro * p_teatro\n",
    "p_n_jantar_e_teatro = p_n_jantar_dado_teatro * p_teatro\n",
    "\n",
    "au = 6\n",
    "eco = 0.82\n",
    "\n",
    "custo_jantar_e_cinema = (custo_jantar + custo_cinema + au) * eco\n",
    "custo_n_jantar_e_cinema = (custo_cinema + au) * eco\n",
    "custo_jantar_e_teatro = (custo_teatro + custo_jantar + au) * eco\n",
    "custo_n_jantar_e_teatro = (custo_teatro + au) * eco\n",
    "\n",
    "esp = (p_jantar_e_cinema * custo_jantar_e_cinema) + (p_n_jantar_e_cinema * custo_n_jantar_e_cinema) + (p_jantar_e_teatro * custo_jantar_e_teatro) + (p_n_jantar_e_teatro * custo_n_jantar_e_teatro)\n",
    "\n",
    "\n",
    "var = p_jantar_e_cinema * ((esp - custo_jantar_e_cinema) ** 2) + p_n_jantar_e_cinema * ((esp - custo_n_jantar_e_cinema) ** 2) + p_jantar_e_teatro * ((esp - custo_jantar_e_teatro) ** 2) + p_n_jantar_e_teatro * ((esp - custo_n_jantar_e_teatro) ** 2)\n",
    "desvio_padrao = var ** 0.5\n",
    "\n",
    "print(esp, desvio_padrao)"
   ]
  },
  {
   "cell_type": "code",
   "execution_count": null,
   "metadata": {},
   "outputs": [],
   "source": []
  }
 ],
 "metadata": {
  "kernelspec": {
   "display_name": "Python 3",
   "language": "python",
   "name": "python3"
  },
  "language_info": {
   "codemirror_mode": {
    "name": "ipython",
    "version": 3
   },
   "file_extension": ".py",
   "mimetype": "text/x-python",
   "name": "python",
   "nbconvert_exporter": "python",
   "pygments_lexer": "ipython3",
   "version": "3.11.5"
  },
  "orig_nbformat": 4
 },
 "nbformat": 4,
 "nbformat_minor": 2
}
