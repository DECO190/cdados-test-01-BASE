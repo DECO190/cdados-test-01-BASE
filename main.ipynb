{
 "cells": [
  {
   "cell_type": "code",
   "execution_count": 2,
   "metadata": {},
   "outputs": [],
   "source": [
    "import pandas as pd"
   ]
  },
  {
   "cell_type": "markdown",
   "metadata": {},
   "source": [
    "# PERCENTIS + QUARTIS\n",
    "Um quantil é exatamente o mesmo, exceto que ao invés de medir quantidades em porcentagens elas são medidas em frações, isto é, a mediana é o quantil.\n",
    "\n",
    "[1 2 3 4 5 6 7 8 9 10]\n",
    "\n",
    "Qual o percentil 90% -> 9 \"é o valor que ocupa na lista ordenada que está a cima de 90%\"\n",
    "\n"
   ]
  },
  {
   "cell_type": "code",
   "execution_count": 3,
   "metadata": {},
   "outputs": [
    {
     "name": "stdout",
     "output_type": "stream",
     "text": [
      "429.4240015605796\n"
     ]
    }
   ],
   "source": [
    "df = pd.read_csv('dados/WorldBank/API_NY.GDP.PCAP.CD_DS2_en_csv_v2_3731360.csv', skiprows=4)\n",
    "gdp_qnt = df['1960'].quantile(q=0.7)\n",
    "\n",
    "print(gdp_qnt)"
   ]
  },
  {
   "cell_type": "markdown",
   "metadata": {},
   "source": [
    "# MERGE"
   ]
  },
  {
   "cell_type": "code",
   "execution_count": 4,
   "metadata": {},
   "outputs": [],
   "source": [
    "df_area_florestal = pd.read_csv('dados/WorldBank/API_AG.LND.FRST.ZS_DS2_en_csv_v2_3731376.csv', skiprows=3)\n",
    "df_pib_per_capita = pd.read_csv('dados/WorldBank/API_NY.GDP.PCAP.CD_DS2_en_csv_v2_3731360.csv', skiprows=3)\n",
    "\n",
    "# on = argumento que será o fator de semelhanca entre os dfs \n",
    "merge_df = pd.merge(left=df_area_florestal, right=df_pib_per_capita, on=\"Country Name\", suffixes=[\"_floresta\", \"_ppc\"])\n",
    "merge_df"
   ]
  },
  {
   "cell_type": "markdown",
   "metadata": {},
   "source": [
    "# CORRELAÇÃO\n",
    " avalia se/quanto um ponto reflete sobre o outro, ou seja, se eles tem relação entre si\n",
    "\n",
    "- quando a correlação = 1 significa que quando um sobe o outro sobe\n",
    " \n",
    "- quando a correlação = -1 significa que quando um sobe o outro desce\n",
    "  \n",
    "- quando a correlação = 0 (ou próximo de 0) não apresentam relação"
   ]
  },
  {
   "cell_type": "code",
   "execution_count": 5,
   "metadata": {},
   "outputs": [
    {
     "data": {
      "text/html": [
       "<div>\n",
       "<style scoped>\n",
       "    .dataframe tbody tr th:only-of-type {\n",
       "        vertical-align: middle;\n",
       "    }\n",
       "\n",
       "    .dataframe tbody tr th {\n",
       "        vertical-align: top;\n",
       "    }\n",
       "\n",
       "    .dataframe thead th {\n",
       "        text-align: right;\n",
       "    }\n",
       "</style>\n",
       "<table border=\"1\" class=\"dataframe\">\n",
       "  <thead>\n",
       "    <tr style=\"text-align: right;\">\n",
       "      <th></th>\n",
       "      <th>2020_ppc</th>\n",
       "      <th>2020_floresta</th>\n",
       "    </tr>\n",
       "  </thead>\n",
       "  <tbody>\n",
       "    <tr>\n",
       "      <th>2020_ppc</th>\n",
       "      <td>1.000000</td>\n",
       "      <td>0.001981</td>\n",
       "    </tr>\n",
       "    <tr>\n",
       "      <th>2020_floresta</th>\n",
       "      <td>0.001981</td>\n",
       "      <td>1.000000</td>\n",
       "    </tr>\n",
       "  </tbody>\n",
       "</table>\n",
       "</div>"
      ],
      "text/plain": [
       "               2020_ppc  2020_floresta\n",
       "2020_ppc       1.000000       0.001981\n",
       "2020_floresta  0.001981       1.000000"
      ]
     },
     "execution_count": 5,
     "metadata": {},
     "output_type": "execute_result"
    }
   ],
   "source": [
    "corr_df = merge_df[[\"2020_ppc\", \"2020_floresta\"]]\n",
    "\n",
    "corr_df.corr()\n"
   ]
  },
  {
   "cell_type": "markdown",
   "metadata": {},
   "source": [
    "# PROBABILIDADE\n",
    "$P(A \\cap B) = P(A) P(B)$ \n",
    "<br>\n",
    "<br>\n",
    "$\n",
    "P(A|B) = \\frac{P(A \\cap B)}{P(B)}\n",
    "$\n",
    "<br>\n",
    "<br>\n",
    "$P(\\overline{A} | B) + P(A | B) = 1$\n",
    "<br>\n",
    "<br>\n",
    "$P(A|B) = \\frac{Qtd-de-vezes-que-A-ocorre-em-B}{Total-de-B}$\n",
    "Como se que o espaço amostral virasse o total de B\n",
    "<br>\n",
    "<br>\n",
    "Bayes: $P(A|B)P(B) = P(B|A)P(A) -ou- P(A|B) = \\frac{P(B|A)P(A)}{P(B)}$ "
   ]
  }
 ],
 "metadata": {
  "kernelspec": {
   "display_name": "Python 3",
   "language": "python",
   "name": "python3"
  },
  "language_info": {
   "codemirror_mode": {
    "name": "ipython",
    "version": 3
   },
   "file_extension": ".py",
   "mimetype": "text/x-python",
   "name": "python",
   "nbconvert_exporter": "python",
   "pygments_lexer": "ipython3",
   "version": "3.11.5"
  },
  "orig_nbformat": 4
 },
 "nbformat": 4,
 "nbformat_minor": 2
}
