{
 "cells": [
  {
   "cell_type": "code",
   "execution_count": null,
   "metadata": {},
   "outputs": [],
   "source": [
    "p_cinema = 0.68\n",
    "p_teatro = 1 - p_cinema\n",
    "\n",
    "p_jantar_dado_cinema = 0.83\n",
    "p_n_jantar_dado_cinema = 1 - p_jantar_dado_cinema\n",
    "\n",
    "p_jantar_dado_teatro = 0.34\n",
    "p_n_jantar_dado_teatro = 1 - p_jantar_dado_teatro\n",
    "\n",
    "c_cinema = 65\n",
    "c_teatro = 198\n",
    "c_jantar = 126\n",
    "\n",
    "p_jantar_e_cinema = p_jantar_dado_cinema * p_cinema\n",
    "p_n_jantar_e_cinema = p_n_jantar_dado_cinema * p_cinema\n",
    "p_jantar_e_teatro = p_jantar_dado_teatro * p_teatro\n",
    "p_n_jantar_e_teatro = p_n_jantar_dado_teatro * p_teatro\n",
    "\n",
    "esp = p_jantar_e_cinema * (c_cinema + c_jantar) + p_n_jantar_e_cinema * (c_cinema) + p_jantar_e_teatro * (c_jantar + c_teatro) + p_n_jantar_e_teatro * (c_teatro)\n",
    "\n",
    "var = p_jantar_e_cinema * (((c_cinema + c_jantar) - esp) ** 2) + (p_n_jantar_e_cinema * (c_cinema - esp) ** 2) + p_jantar_e_teatro * ((c_jantar + c_teatro) - esp) ** 2 + p_n_jantar_e_teatro * (c_teatro - esp) ** 2\n",
    "dp = var ** 0.5\n",
    "print(esp, dp)"
   ]
  }
 ],
 "metadata": {
  "language_info": {
   "name": "python"
  },
  "orig_nbformat": 4
 },
 "nbformat": 4,
 "nbformat_minor": 2
}
